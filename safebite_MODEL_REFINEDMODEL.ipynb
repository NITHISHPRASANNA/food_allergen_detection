{
 "cells": [
  {
   "cell_type": "code",
   "execution_count": 1,
   "metadata": {},
   "outputs": [],
   "source": [
    "import pandas as pd\n",
    "from sklearn.model_selection import train_test_split"
   ]
  },
  {
   "cell_type": "code",
   "execution_count": 2,
   "metadata": {},
   "outputs": [],
   "source": [
    "df = pd.read_csv(\"preprocessed_data.csv\")"
   ]
  },
  {
   "cell_type": "code",
   "execution_count": 3,
   "metadata": {},
   "outputs": [
    {
     "name": "stdout",
     "output_type": "stream",
     "text": [
      "Shape of features variable: (398, 8)\n",
      "Shape of target variable: (398,)\n",
      "\n",
      "Shape of variable in 80:20 split:\n",
      "\tShape of X_train variable: (318, 8)\n",
      "\tShape of X_test variable: (80, 8)\n",
      "\tShape of y_train variable: (318,)\n",
      "\tShape of y_test variable: (80,)\n",
      "\n",
      "Shape of variable in 70:30 split\n",
      "\tShape of X_train variable: (278, 8)\n",
      "\tShape of X_test variable: (120, 8)\n",
      "\tShape of y_train variable: (278,)\n",
      "\tShape of y_test variable: (120,)\n"
     ]
    }
   ],
   "source": [
    "# Split data into features and target variable (if applicable)\n",
    "X = df.drop(columns=['Is_Allergen'])\n",
    "y = df['Is_Allergen']\n",
    "\n",
    "# Shape of features and target variables\n",
    "print(\"Shape of features variable:\",X.shape)\n",
    "print(\"Shape of target variable:\",y.shape)\n",
    "print()\n",
    "\n",
    "# Split the data into train and test sets 80:20 ratio\n",
    "X_train_80, X_test_80, y_train_80, y_test_80 = train_test_split(X, y, test_size=0.2, random_state=42)\n",
    "\n",
    "# Displaying the shapes\n",
    "print(\"Shape of variable in 80:20 split:\")\n",
    "print(\"\\tShape of X_train variable:\",X_train_80.shape)\n",
    "print(\"\\tShape of X_test variable:\",X_test_80.shape)\n",
    "print(\"\\tShape of y_train variable:\",y_train_80.shape)\n",
    "print(\"\\tShape of y_test variable:\",y_test_80.shape)\n",
    "print()\n",
    "\n",
    "# Split the data into train and test sets 70:30 ratio\n",
    "X_train_70, X_test_70, y_train_70, y_test_70 = train_test_split(X, y, test_size=0.3, random_state=42)\n",
    "\n",
    "# Displaying the shapes\n",
    "print(\"Shape of variable in 70:30 split\")\n",
    "print(\"\\tShape of X_train variable:\",X_train_70.shape)\n",
    "print(\"\\tShape of X_test variable:\",X_test_70.shape)\n",
    "print(\"\\tShape of y_train variable:\",y_train_70.shape)\n",
    "print(\"\\tShape of y_test variable:\",y_test_70.shape)\n"
   ]
  },
  {
   "cell_type": "code",
   "execution_count": 4,
   "metadata": {},
   "outputs": [
    {
     "name": "stdout",
     "output_type": "stream",
     "text": [
      "Logistic Regression model test accuracy (in %): 61.66666666666667\n",
      "Logistic Regression model train accuracy (in %): 58.63309352517986\n",
      "\n",
      "Classification Report:\n",
      "              precision    recall  f1-score   support\n",
      "\n",
      "           0       0.70      0.84      0.76        87\n",
      "           1       0.07      0.03      0.04        33\n",
      "\n",
      "    accuracy                           0.62       120\n",
      "   macro avg       0.38      0.43      0.40       120\n",
      "weighted avg       0.52      0.62      0.56       120\n",
      "\n",
      "\n",
      "Confusion Matrix:\n",
      "[[73 14]\n",
      " [32  1]]\n"
     ]
    }
   ],
   "source": [
    "### LOGISTIC REGRESSION\n",
    "\n",
    "from sklearn.linear_model import LogisticRegression\n",
    "from sklearn.metrics import accuracy_score, classification_report, confusion_matrix\n",
    "from sklearn.preprocessing import StandardScaler\n",
    "\n",
    "# Applying Scaling on the Dataset\n",
    "scaler = StandardScaler()\n",
    "X_train_scaled = scaler.fit_transform(X_train_70)\n",
    "X_test_scaled = scaler.transform(X_test_70)\n",
    "\n",
    "# LogisticRegression\n",
    "lr = LogisticRegression()\n",
    "lr.fit(X_train_scaled, y_train_70)\n",
    "\n",
    "# Prediction\n",
    "y_pred = lr.predict(X_test_scaled)\n",
    "y_train_pred = lr.predict(X_train_scaled)\n",
    "\n",
    "# Test Accuracy\n",
    "acc = accuracy_score(y_test_70, y_pred)\n",
    "print(\"Logistic Regression model test accuracy (in %):\", acc * 100)\n",
    "\n",
    "# Train Accuracy\n",
    "acc = accuracy_score(y_train_70, y_train_pred)\n",
    "print(\"Logistic Regression model train accuracy (in %):\", acc * 100)\n",
    "\n",
    "# Classification Report\n",
    "print(\"\\nClassification Report:\")\n",
    "print(classification_report(y_test_70, y_pred))\n",
    "\n",
    "# Confusion Matrix\n",
    "print(\"\\nConfusion Matrix:\")\n",
    "print(confusion_matrix(y_test_70, y_pred))"
   ]
  },
  {
   "cell_type": "code",
   "execution_count": 5,
   "metadata": {},
   "outputs": [
    {
     "name": "stdout",
     "output_type": "stream",
     "text": [
      "Decision Tree model test accuracy (in %): 95.0\n",
      "Decision Tree model train accuracy (in %): 100.0\n",
      "\n",
      "Classification Report:\n",
      "              precision    recall  f1-score   support\n",
      "\n",
      "           0       0.96      0.98      0.97        87\n",
      "           1       0.94      0.88      0.91        33\n",
      "\n",
      "    accuracy                           0.95       120\n",
      "   macro avg       0.95      0.93      0.94       120\n",
      "weighted avg       0.95      0.95      0.95       120\n",
      "\n",
      "\n",
      "Confusion Matrix:\n",
      "[[85  2]\n",
      " [ 4 29]]\n"
     ]
    }
   ],
   "source": [
    "### DECISION TREE\n",
    "\n",
    "from sklearn.tree import DecisionTreeClassifier\n",
    "from sklearn.metrics import accuracy_score, classification_report, confusion_matrix\n",
    "\n",
    "# DecisionTreeClassifier\n",
    "dt = DecisionTreeClassifier()\n",
    "dt.fit(X_train_70, y_train_70)\n",
    "\n",
    "# Prediction\n",
    "y_pred = dt.predict(X_test_70)\n",
    "y_train_pred = dt.predict(X_train_70)\n",
    "\n",
    "# Test Accuracy\n",
    "acc = accuracy_score(y_test_70, y_pred)\n",
    "print(\"Decision Tree model test accuracy (in %):\", acc * 100)\n",
    "\n",
    "# Train Accuracy\n",
    "acc = accuracy_score(y_train_70, y_train_pred)\n",
    "print(\"Decision Tree model train accuracy (in %):\", acc * 100)\n",
    "\n",
    "# Classification Report\n",
    "print(\"\\nClassification Report:\")\n",
    "print(classification_report(y_test_70, y_pred))\n",
    "\n",
    "# Confusion Matrix\n",
    "print(\"\\nConfusion Matrix:\")\n",
    "print(confusion_matrix(y_test_70, y_pred))"
   ]
  },
  {
   "cell_type": "code",
   "execution_count": 6,
   "metadata": {},
   "outputs": [
    {
     "name": "stdout",
     "output_type": "stream",
     "text": [
      "Random Forest model test accuracy (in %): 98.33333333333333\n",
      "Random Forest model train accuracy (in %): 100.0\n",
      "\n",
      "Classification Report:\n",
      "              precision    recall  f1-score   support\n",
      "\n",
      "           0       0.99      0.99      0.99        87\n",
      "           1       0.97      0.97      0.97        33\n",
      "\n",
      "    accuracy                           0.98       120\n",
      "   macro avg       0.98      0.98      0.98       120\n",
      "weighted avg       0.98      0.98      0.98       120\n",
      "\n",
      "\n",
      "Confusion Matrix:\n",
      "[[86  1]\n",
      " [ 1 32]]\n"
     ]
    }
   ],
   "source": [
    "### RANDOM FOREST\n",
    "\n",
    "\n",
    "from sklearn.ensemble import RandomForestClassifier\n",
    "from sklearn.metrics import accuracy_score, classification_report, confusion_matrix\n",
    "\n",
    "# RandomForestClassifier\n",
    "rf = RandomForestClassifier()\n",
    "rf.fit(X_train_70, y_train_70)\n",
    "\n",
    "# Prediction\n",
    "y_pred = rf.predict(X_test_70)\n",
    "y_train_pred = rf.predict(X_train_70)\n",
    "\n",
    "# Accuracy\n",
    "acc = accuracy_score(y_test_70, y_pred)\n",
    "print(\"Random Forest model test accuracy (in %):\", acc * 100)\n",
    "\n",
    "# Train Accuracy\n",
    "acc = accuracy_score(y_train_70, y_train_pred)\n",
    "print(\"Random Forest model train accuracy (in %):\", acc * 100)\n",
    "\n",
    "# Classification Report\n",
    "print(\"\\nClassification Report:\")\n",
    "print(classification_report(y_test_70, y_pred))\n",
    "\n",
    "# Confusion Matrix\n",
    "print(\"\\nConfusion Matrix:\")\n",
    "print(confusion_matrix(y_test_70, y_pred))\n"
   ]
  },
  {
   "cell_type": "code",
   "execution_count": 7,
   "metadata": {},
   "outputs": [
    {
     "name": "stdout",
     "output_type": "stream",
     "text": [
      "XGBoost model test accuracy (in %): 98.33333333333333\n",
      "XGBoost model train accuracy (in %): 100.0\n",
      "\n",
      "Classification Report:\n",
      "              precision    recall  f1-score   support\n",
      "\n",
      "           0       1.00      0.98      0.99        87\n",
      "           1       0.94      1.00      0.97        33\n",
      "\n",
      "    accuracy                           0.98       120\n",
      "   macro avg       0.97      0.99      0.98       120\n",
      "weighted avg       0.98      0.98      0.98       120\n",
      "\n",
      "\n",
      "Confusion Matrix:\n",
      "[[85  2]\n",
      " [ 0 33]]\n"
     ]
    }
   ],
   "source": [
    "### XGBOOST\n",
    "\n",
    "from xgboost import XGBClassifier\n",
    "from sklearn.metrics import accuracy_score, classification_report, confusion_matrix\n",
    "\n",
    "# XGBClassifier\n",
    "xgb = XGBClassifier()\n",
    "xgb.fit(X_train_70, y_train_70)\n",
    "\n",
    "# Prediction\n",
    "y_pred = xgb.predict(X_test_70)\n",
    "y_train_pred = xgb.predict(X_train_70)\n",
    "\n",
    "# Test Accuracy\n",
    "acc = accuracy_score(y_test_70, y_pred)\n",
    "print(\"XGBoost model test accuracy (in %):\", acc * 100)\n",
    "\n",
    "# Train Accuracy\n",
    "acc = accuracy_score(y_train_70, y_train_pred)\n",
    "print(\"XGBoost model train accuracy (in %):\", acc * 100)\n",
    "\n",
    "# Classification Report\n",
    "print(\"\\nClassification Report:\")\n",
    "print(classification_report(y_test_70, y_pred))\n",
    "\n",
    "# Confusion Matrix\n",
    "print(\"\\nConfusion Matrix:\")\n",
    "print(confusion_matrix(y_test_70, y_pred))\n"
   ]
  },
  {
   "cell_type": "code",
   "execution_count": 8,
   "metadata": {},
   "outputs": [
    {
     "name": "stdout",
     "output_type": "stream",
     "text": [
      "KNN model Test accuracy (in %): 62.5\n",
      "KNN model Train accuracy (in %): 72.66187050359713\n",
      "\n",
      "Classification Report:\n",
      "              precision    recall  f1-score   support\n",
      "\n",
      "           0       0.84      0.60      0.70        87\n",
      "           1       0.40      0.70      0.51        33\n",
      "\n",
      "    accuracy                           0.62       120\n",
      "   macro avg       0.62      0.65      0.60       120\n",
      "weighted avg       0.72      0.62      0.65       120\n",
      "\n",
      "\n",
      "Confusion Matrix:\n",
      "[[52 35]\n",
      " [10 23]]\n"
     ]
    }
   ],
   "source": [
    "### KNN\n",
    "\n",
    "\n",
    "\n",
    "from sklearn.neighbors import KNeighborsClassifier\n",
    "from sklearn.metrics import accuracy_score, classification_report, confusion_matrix\n",
    "\n",
    "# KNeighborsClassifier\n",
    "knn = KNeighborsClassifier(n_neighbors=5)  # Optional: adjust n_neighbors as needed\n",
    "knn.fit(X_train_70, y_train_70)\n",
    "\n",
    "# Prediction\n",
    "y_pred = knn.predict(X_test_70)\n",
    "y_train_pred = knn.predict(X_train_70)\n",
    "\n",
    "# Test Accuracy\n",
    "acc = accuracy_score(y_test_70, y_pred)\n",
    "print(\"KNN model Test accuracy (in %):\", acc * 100)\n",
    "\n",
    "# Train Accuracy\n",
    "acc = accuracy_score(y_train_70, y_train_pred)\n",
    "print(\"KNN model Train accuracy (in %):\", acc * 100)\n",
    "\n",
    "# Classification Report\n",
    "print(\"\\nClassification Report:\")\n",
    "print(classification_report(y_test_70, y_pred))\n",
    "\n",
    "# Confusion Matrix\n",
    "print(\"\\nConfusion Matrix:\")\n",
    "print(confusion_matrix(y_test_70, y_pred))"
   ]
  },
  {
   "cell_type": "code",
   "execution_count": 9,
   "metadata": {},
   "outputs": [
    {
     "name": "stdout",
     "output_type": "stream",
     "text": [
      "Naive Bayes model Test accuracy (in %): 88.33333333333333\n",
      "Naive Bayes model Train accuracy (in %): 89.92805755395683\n",
      "\n",
      "Classification Report:\n",
      "              precision    recall  f1-score   support\n",
      "\n",
      "           0       0.97      0.86      0.91        87\n",
      "           1       0.72      0.94      0.82        33\n",
      "\n",
      "    accuracy                           0.88       120\n",
      "   macro avg       0.85      0.90      0.87       120\n",
      "weighted avg       0.90      0.88      0.89       120\n",
      "\n",
      "\n",
      "Confusion Matrix:\n",
      "[[75 12]\n",
      " [ 2 31]]\n"
     ]
    }
   ],
   "source": [
    "### NAVIE BAYES\n",
    "\n",
    "\n",
    "from sklearn.naive_bayes import GaussianNB\n",
    "from sklearn.metrics import accuracy_score, classification_report, confusion_matrix\n",
    "\n",
    "# Gaussian Naive Bayes\n",
    "nb = GaussianNB()\n",
    "nb.fit(X_train_70, y_train_70)\n",
    "\n",
    "# Prediction\n",
    "y_pred = nb.predict(X_test_70)\n",
    "y_train_pred = nb.predict(X_train_70)\n",
    "\n",
    "# Test Accuracy\n",
    "acc = accuracy_score(y_test_70, y_pred)\n",
    "print(\"Naive Bayes model Test accuracy (in %):\", acc * 100)\n",
    "\n",
    "# Train Accuracy\n",
    "acc = accuracy_score(y_train_70, y_train_pred)\n",
    "print(\"Naive Bayes model Train accuracy (in %):\", acc * 100)\n",
    "\n",
    "# Classification Report\n",
    "print(\"\\nClassification Report:\")\n",
    "print(classification_report(y_test_70, y_pred))\n",
    "\n",
    "# Confusion Matrix\n",
    "print(\"\\nConfusion Matrix:\")\n",
    "print(confusion_matrix(y_test_70, y_pred))"
   ]
  },
  {
   "cell_type": "code",
   "execution_count": 10,
   "metadata": {},
   "outputs": [
    {
     "name": "stdout",
     "output_type": "stream",
     "text": [
      "Fitting 3 folds for each of 50 candidates, totalling 150 fits\n",
      "Best Parameters from Randomized Search: {'subsample': 1.0, 'n_estimators': 50, 'min_child_weight': 1, 'max_depth': 10, 'learning_rate': 0.1, 'gamma': 0.3, 'colsample_bytree': 1.0}\n",
      "Tuned XGBoost model test accuracy (in %): 98.33333333333333\n",
      "Tuned XGBoost model train accuracy (in %): 99.64028776978418\n"
     ]
    }
   ],
   "source": [
    "### REFINE TUNING FOR XGBOOST\n",
    "\n",
    "\n",
    "\n",
    "from sklearn.model_selection import RandomizedSearchCV\n",
    "from xgboost import XGBClassifier\n",
    "\n",
    "# Define the parameter grid\n",
    "param_grid = {\n",
    "    'n_estimators': [50, 100, 200],\n",
    "    'learning_rate': [0.01, 0.05, 0.1, 0.2],\n",
    "    'max_depth': [3, 5, 7, 10],\n",
    "    'min_child_weight': [1, 3, 5],\n",
    "    'subsample': [0.5, 0.7, 1.0],\n",
    "    'colsample_bytree': [0.3, 0.6, 1.0],\n",
    "    'gamma': [0, 0.1, 0.2, 0.3]\n",
    "}\n",
    "\n",
    "# Initialize the model\n",
    "xgb = XGBClassifier()\n",
    "\n",
    "# RandomizedSearchCV with cross-validation\n",
    "random_search = RandomizedSearchCV(estimator=xgb, param_distributions=param_grid,\n",
    "                                   n_iter=50, scoring='accuracy', cv=3, verbose=1, n_jobs=-1, random_state=42)\n",
    "\n",
    "# Fit the model\n",
    "random_search.fit(X_train_70, y_train_70)\n",
    "\n",
    "# Best parameters\n",
    "print(\"Best Parameters from Randomized Search:\", random_search.best_params_)\n",
    "\n",
    "# Best model\n",
    "best_xgb = random_search.best_estimator_\n",
    "\n",
    "# Predictions with the best model\n",
    "y_pred_best = best_xgb.predict(X_test_70)\n",
    "y_train_pred_best = best_xgb.predict(X_train_70)\n",
    "\n",
    "# Test Accuracy with the best model\n",
    "acc_best = accuracy_score(y_test_70, y_pred_best)\n",
    "print(\"Tuned XGBoost model test accuracy (in %):\", acc_best * 100)\n",
    "\n",
    "# Train Accuracy with the best model\n",
    "acc_best = accuracy_score(y_train_70, y_train_pred_best)\n",
    "print(\"Tuned XGBoost model train accuracy (in %):\", acc_best * 100)"
   ]
  },
  {
   "cell_type": "code",
   "execution_count": 11,
   "metadata": {},
   "outputs": [
    {
     "data": {
      "text/plain": [
       "['Allergen_detection.pkl']"
      ]
     },
     "execution_count": 11,
     "metadata": {},
     "output_type": "execute_result"
    }
   ],
   "source": [
    "import joblib\n",
    "# Save the XGBoost model with joblib\n",
    "joblib.dump(best_xgb, 'Allergen_detection.pkl')\n"
   ]
  }
 ],
 "metadata": {
  "kernelspec": {
   "display_name": "Python 3",
   "language": "python",
   "name": "python3"
  },
  "language_info": {
   "codemirror_mode": {
    "name": "ipython",
    "version": 3
   },
   "file_extension": ".py",
   "mimetype": "text/x-python",
   "name": "python",
   "nbconvert_exporter": "python",
   "pygments_lexer": "ipython3",
   "version": "3.13.0"
  }
 },
 "nbformat": 4,
 "nbformat_minor": 2
}
